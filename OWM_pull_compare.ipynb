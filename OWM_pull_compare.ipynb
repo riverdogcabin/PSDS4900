{
  "nbformat": 4,
  "nbformat_minor": 0,
  "metadata": {
    "colab": {
      "name": "OWM_pull_compare.ipynb",
      "provenance": [],
      "collapsed_sections": [],
      "mount_file_id": "1gIJqrRlxMcr9_h9Wibd9XyzTPW3q8Xlu",
      "authorship_tag": "ABX9TyPP+01LuT0czo7z99E57Xqb",
      "include_colab_link": true
    },
    "kernelspec": {
      "name": "python3",
      "display_name": "Python 3"
    }
  },
  "cells": [
    {
      "cell_type": "markdown",
      "metadata": {
        "id": "view-in-github",
        "colab_type": "text"
      },
      "source": [
        "<a href=\"https://colab.research.google.com/github/riverdogcabin/PSDS4900/blob/main/OWM_pull_compare.ipynb\" target=\"_parent\"><img src=\"https://colab.research.google.com/assets/colab-badge.svg\" alt=\"Open In Colab\"/></a>"
      ]
    },
    {
      "cell_type": "code",
      "metadata": {
        "id": "sG6R6qyIoskF"
      },
      "source": [
        "import requests\n",
        "import datetime\n",
        "import time\n",
        "import pandas as pd\n",
        "import json"
      ],
      "execution_count": 178,
      "outputs": []
    },
    {
      "cell_type": "code",
      "metadata": {
        "id": "-UVrC3Yto079"
      },
      "source": [
        "# historic data API call for OpenWeather\n",
        "# https://api.openweathermap.org/data/2.5/onecall/timemachine?lat={lat}&lon={lon}&dt={time}&appid={API key}"
      ],
      "execution_count": 183,
      "outputs": []
    },
    {
      "cell_type": "code",
      "metadata": {
        "id": "pJZH8liUFnix"
      },
      "source": [
        "with open('/content/drive/MyDrive/Capstone/PSDS4900/config.json') as configuration:\n",
        "  config = json.load(configuration)\n",
        "  my_station = config.get('WU')[\"stationid\"]\n",
        "  my_lat = config.get('OWM')[\"lat\"]\n",
        "  my_lon = config.get('OWM')[\"lon\"]\n",
        "  APIKEY = config.get('OWM')[\"APIkey\"]"
      ],
      "execution_count": 179,
      "outputs": []
    },
    {
      "cell_type": "code",
      "metadata": {
        "colab": {
          "base_uri": "https://localhost:8080/"
        },
        "id": "IZkiYEw4GK6d",
        "outputId": "98ab4817-83bc-4729-bbbf-83deaa3efbe4"
      },
      "source": [
        "#get the Weather Underground data into a dataframe, create the hourly timestamp for grouping, etc\n",
        "df = pd.read_csv('/content/drive/MyDrive/Capstone/PSDS4900/wu_data/wu_observations.csv')\n",
        "df['timestamp'] = pd.to_datetime(df['epoch'], unit='s')\n",
        "df = df.assign(timestamp_rounded=df.timestamp.dt.round('60min')) #rounded to the hour\n",
        "print('with dupes',df.shape)\n",
        "before = df.shape[0]\n",
        "df.drop_duplicates(inplace=True)\n",
        "print('without dupes',df.shape)\n",
        "print('difference: ',before-df.shape[0])\n",
        "df = df[df.stationID==my_station] #trim the df down to just my station for purposes of the comparisons\n",
        "# df.tail()"
      ],
      "execution_count": 180,
      "outputs": [
        {
          "output_type": "stream",
          "text": [
            "with dupes (106143, 34)\n",
            "without dupes (106143, 34)\n",
            "difference:  0\n"
          ],
          "name": "stdout"
        }
      ]
    },
    {
      "cell_type": "code",
      "metadata": {
        "id": "aIzr9Z8Ay2g4"
      },
      "source": [
        "#get the stations that are most highly correlated with mine (exported from my local DB)\n",
        "highly_correlated_locations_df = pd.read_csv('/content/drive/MyDrive/Capstone/PSDS4900/strong_correlations.csv')\n",
        "# highly_correlated_locations_df"
      ],
      "execution_count": 181,
      "outputs": []
    },
    {
      "cell_type": "code",
      "metadata": {
        "id": "AVFbQw-UURqr"
      },
      "source": [
        "#helper def to pull for specific location on specific date\n",
        "def owm_by_coord_date(lat='39.44805951764288',lon='-104.73659430737496',dt=False):\n",
        "  url_template = 'https://api.openweathermap.org/data/2.5/onecall/timemachine?lat={lat}&lon={lon}&dt={time}&appid={APIkey}'\n",
        "  if(not dt):\n",
        "    n = datetime.datetime.now()\n",
        "    dt = str(int(time.mktime(datetime.datetime(n.year, n.month, n.day).timetuple())))\n",
        "  resp = requests.get(url_template.format(lat=lat,lon=lon,time=dt,APIkey=APIKEY))\n",
        "  if(resp.status_code != 200):\n",
        "    return resp.status_code\n",
        "  resp_dict = eval(resp.text)\n",
        "  owm_df = pd.DataFrame(resp_dict.get('hourly')).rename(columns={'dt':'epoch'})\n",
        "  owm_df['timestamp_rounded'] = pd.to_datetime(owm_df['epoch'], unit='s')\n",
        "  owm_df['lat'] = lat\n",
        "  owm_df['lon'] = lon\n",
        "  # print('owm_df.shape',owm_df.shape)\n",
        "  return owm_df\n",
        "\n",
        "#helper def to pull a location for a set number of days back, max days back is 5\n",
        "def get_last_x_days(num_days_back=5,lat='39.44805951764288',lon='-104.73659430737496'):\n",
        "  return_df = pd.DataFrame()\n",
        "  today = datetime.date.today()\n",
        "  start_date = today - datetime.timedelta(days=num_days_back)\n",
        "  for i in range(num_days_back):\n",
        "    dt = str(int(time.mktime(start_date.timetuple())))\n",
        "    print('getting date',start_date)\n",
        "    # print(dt)\n",
        "    return_df = return_df.append(owm_by_coord_date(dt=dt,lat=lat,lon=lon))\n",
        "    # print(return_df.shape)\n",
        "    time.sleep(2)\n",
        "    start_date = start_date + datetime.timedelta(days=1)\n",
        "  return_df.reset_index(inplace=True,drop=True)\n",
        "  return return_df\n"
      ],
      "execution_count": 182,
      "outputs": []
    },
    {
      "cell_type": "code",
      "metadata": {
        "colab": {
          "base_uri": "https://localhost:8080/"
        },
        "id": "XzDFRORKXKbF",
        "outputId": "610efca3-d614-4ef8-9678-a82efe727ec5"
      },
      "source": [
        "#gahter OWM data for each station for max # days back, stashing off in a big dataframe\n",
        "owm_df = pd.DataFrame()\n",
        "for i,lat,lon,stationID in highly_correlated_locations_df[['lat','lon','stationID']].itertuples():\n",
        "  print(\"Pulling {},{} for station {}\".format(lat,lon,stationID))\n",
        "  temp_df = get_last_x_days(lat=lat,lon=lon)\n",
        "  temp_df['stationID'] = stationID\n",
        "  owm_df = owm_df.append(temp_df)\n",
        "\n",
        "owm_df.shape"
      ],
      "execution_count": 184,
      "outputs": [
        {
          "output_type": "stream",
          "text": [
            "Pulling 39.427,-104.79 for station KCOCASTL404\n",
            "getting date 2021-04-25\n",
            "getting date 2021-04-26\n",
            "getting date 2021-04-27\n",
            "getting date 2021-04-28\n",
            "getting date 2021-04-29\n",
            "Pulling 39.430405,-104.705574 for station KCOPARKE148\n",
            "getting date 2021-04-25\n",
            "getting date 2021-04-26\n",
            "getting date 2021-04-27\n",
            "getting date 2021-04-28\n",
            "getting date 2021-04-29\n",
            "Pulling 39.438,-104.717003 for station KCOPARKE320\n",
            "getting date 2021-04-25\n",
            "getting date 2021-04-26\n",
            "getting date 2021-04-27\n",
            "getting date 2021-04-28\n",
            "getting date 2021-04-29\n",
            "Pulling 39.453,-104.715 for station KCOPARKE374\n",
            "getting date 2021-04-25\n",
            "getting date 2021-04-26\n",
            "getting date 2021-04-27\n",
            "getting date 2021-04-28\n",
            "getting date 2021-04-29\n",
            "Pulling 39.448,-104.73700000000001 for station KCOPARKE414\n",
            "getting date 2021-04-25\n",
            "getting date 2021-04-26\n",
            "getting date 2021-04-27\n",
            "getting date 2021-04-28\n",
            "getting date 2021-04-29\n"
          ],
          "name": "stdout"
        },
        {
          "output_type": "execute_result",
          "data": {
            "text/plain": [
              "(600, 18)"
            ]
          },
          "metadata": {
            "tags": []
          },
          "execution_count": 184
        }
      ]
    },
    {
      "cell_type": "code",
      "metadata": {
        "id": "6rU85o6gwazV"
      },
      "source": [
        "#columns that have anything to do with wind measurements\n",
        "wind_columns = []\n",
        "for cname in owm_df.columns.to_list()+df.columns.to_list():\n",
        "  if(cname.startswith('wind')):\n",
        "    wind_columns.append(cname)"
      ],
      "execution_count": 188,
      "outputs": []
    },
    {
      "cell_type": "code",
      "metadata": {
        "colab": {
          "base_uri": "https://localhost:8080/",
          "height": 464
        },
        "id": "Epp7m4gGIc_g",
        "outputId": "431508d7-7a63-46a8-b5a9-eda17fe70e16"
      },
      "source": [
        "#build big correlation table for comparision\n",
        "corr_df = pd.DataFrame()\n",
        "for i,stationID in highly_correlated_locations_df[['stationID']].itertuples():\n",
        "  # print(stationID)\n",
        "  big_df = owm_df[owm_df.stationID==stationID].merge(df,on='timestamp_rounded',how='inner')\n",
        "  # big_df.shape\n",
        "  wind_df = big_df[wind_columns]\n",
        "  # wind_df.head()\n",
        "  temp_df = wind_df.corr().iloc[:3].T.iloc[3:]\n",
        "  for cname in temp_df.columns:\n",
        "    corr_df[cname+'_'+stationID] = temp_df[cname]\n",
        "  # corr_df = corr_df.append(wind_df.corr().iloc[:3].T.iloc[3:])\n",
        "corr_df"
      ],
      "execution_count": 189,
      "outputs": [
        {
          "output_type": "stream",
          "text": [
            "KCOCASTL404\n",
            "KCOPARKE148\n",
            "KCOPARKE320\n",
            "KCOPARKE374\n",
            "KCOPARKE414\n"
          ],
          "name": "stdout"
        },
        {
          "output_type": "execute_result",
          "data": {
            "text/html": [
              "<div>\n",
              "<style scoped>\n",
              "    .dataframe tbody tr th:only-of-type {\n",
              "        vertical-align: middle;\n",
              "    }\n",
              "\n",
              "    .dataframe tbody tr th {\n",
              "        vertical-align: top;\n",
              "    }\n",
              "\n",
              "    .dataframe thead th {\n",
              "        text-align: right;\n",
              "    }\n",
              "</style>\n",
              "<table border=\"1\" class=\"dataframe\">\n",
              "  <thead>\n",
              "    <tr style=\"text-align: right;\">\n",
              "      <th></th>\n",
              "      <th>wind_speed_KCOCASTL404</th>\n",
              "      <th>wind_deg_KCOCASTL404</th>\n",
              "      <th>wind_gust_KCOCASTL404</th>\n",
              "      <th>wind_speed_KCOPARKE148</th>\n",
              "      <th>wind_deg_KCOPARKE148</th>\n",
              "      <th>wind_gust_KCOPARKE148</th>\n",
              "      <th>wind_speed_KCOPARKE320</th>\n",
              "      <th>wind_deg_KCOPARKE320</th>\n",
              "      <th>wind_gust_KCOPARKE320</th>\n",
              "      <th>wind_speed_KCOPARKE374</th>\n",
              "      <th>wind_deg_KCOPARKE374</th>\n",
              "      <th>wind_gust_KCOPARKE374</th>\n",
              "      <th>wind_speed_KCOPARKE414</th>\n",
              "      <th>wind_deg_KCOPARKE414</th>\n",
              "      <th>wind_gust_KCOPARKE414</th>\n",
              "    </tr>\n",
              "  </thead>\n",
              "  <tbody>\n",
              "    <tr>\n",
              "      <th>winddirAvg</th>\n",
              "      <td>0.242257</td>\n",
              "      <td>0.607330</td>\n",
              "      <td>0.308781</td>\n",
              "      <td>0.369389</td>\n",
              "      <td>0.681157</td>\n",
              "      <td>0.390015</td>\n",
              "      <td>0.367960</td>\n",
              "      <td>0.686058</td>\n",
              "      <td>0.396894</td>\n",
              "      <td>0.230563</td>\n",
              "      <td>0.634095</td>\n",
              "      <td>0.285354</td>\n",
              "      <td>0.347759</td>\n",
              "      <td>0.647315</td>\n",
              "      <td>0.419612</td>\n",
              "    </tr>\n",
              "    <tr>\n",
              "      <th>windspeedHigh</th>\n",
              "      <td>0.565982</td>\n",
              "      <td>0.789804</td>\n",
              "      <td>0.678799</td>\n",
              "      <td>0.703989</td>\n",
              "      <td>0.794736</td>\n",
              "      <td>0.742069</td>\n",
              "      <td>0.698604</td>\n",
              "      <td>0.802671</td>\n",
              "      <td>0.747289</td>\n",
              "      <td>0.531127</td>\n",
              "      <td>0.735667</td>\n",
              "      <td>0.646204</td>\n",
              "      <td>0.680742</td>\n",
              "      <td>0.830833</td>\n",
              "      <td>0.762642</td>\n",
              "    </tr>\n",
              "    <tr>\n",
              "      <th>windspeedLow</th>\n",
              "      <td>NaN</td>\n",
              "      <td>NaN</td>\n",
              "      <td>NaN</td>\n",
              "      <td>NaN</td>\n",
              "      <td>NaN</td>\n",
              "      <td>NaN</td>\n",
              "      <td>NaN</td>\n",
              "      <td>NaN</td>\n",
              "      <td>NaN</td>\n",
              "      <td>NaN</td>\n",
              "      <td>NaN</td>\n",
              "      <td>NaN</td>\n",
              "      <td>NaN</td>\n",
              "      <td>NaN</td>\n",
              "      <td>NaN</td>\n",
              "    </tr>\n",
              "    <tr>\n",
              "      <th>windspeedAvg</th>\n",
              "      <td>0.502207</td>\n",
              "      <td>0.654207</td>\n",
              "      <td>0.615463</td>\n",
              "      <td>0.725455</td>\n",
              "      <td>0.697631</td>\n",
              "      <td>0.765521</td>\n",
              "      <td>0.719256</td>\n",
              "      <td>0.704766</td>\n",
              "      <td>0.769197</td>\n",
              "      <td>0.441168</td>\n",
              "      <td>0.579261</td>\n",
              "      <td>0.574183</td>\n",
              "      <td>0.702168</td>\n",
              "      <td>0.740879</td>\n",
              "      <td>0.780852</td>\n",
              "    </tr>\n",
              "    <tr>\n",
              "      <th>windgustHigh</th>\n",
              "      <td>0.539809</td>\n",
              "      <td>0.797046</td>\n",
              "      <td>0.649906</td>\n",
              "      <td>0.718353</td>\n",
              "      <td>0.819043</td>\n",
              "      <td>0.757575</td>\n",
              "      <td>0.712779</td>\n",
              "      <td>0.826337</td>\n",
              "      <td>0.762673</td>\n",
              "      <td>0.498715</td>\n",
              "      <td>0.736146</td>\n",
              "      <td>0.615127</td>\n",
              "      <td>0.694498</td>\n",
              "      <td>0.856075</td>\n",
              "      <td>0.777243</td>\n",
              "    </tr>\n",
              "    <tr>\n",
              "      <th>windgustLow</th>\n",
              "      <td>NaN</td>\n",
              "      <td>NaN</td>\n",
              "      <td>NaN</td>\n",
              "      <td>NaN</td>\n",
              "      <td>NaN</td>\n",
              "      <td>NaN</td>\n",
              "      <td>NaN</td>\n",
              "      <td>NaN</td>\n",
              "      <td>NaN</td>\n",
              "      <td>NaN</td>\n",
              "      <td>NaN</td>\n",
              "      <td>NaN</td>\n",
              "      <td>NaN</td>\n",
              "      <td>NaN</td>\n",
              "      <td>NaN</td>\n",
              "    </tr>\n",
              "    <tr>\n",
              "      <th>windgustAvg</th>\n",
              "      <td>0.501899</td>\n",
              "      <td>0.662447</td>\n",
              "      <td>0.605897</td>\n",
              "      <td>0.727654</td>\n",
              "      <td>0.707064</td>\n",
              "      <td>0.758087</td>\n",
              "      <td>0.721337</td>\n",
              "      <td>0.714432</td>\n",
              "      <td>0.761916</td>\n",
              "      <td>0.442356</td>\n",
              "      <td>0.588774</td>\n",
              "      <td>0.564711</td>\n",
              "      <td>0.703545</td>\n",
              "      <td>0.749166</td>\n",
              "      <td>0.773910</td>\n",
              "    </tr>\n",
              "    <tr>\n",
              "      <th>windchillHigh</th>\n",
              "      <td>0.303379</td>\n",
              "      <td>0.713619</td>\n",
              "      <td>0.417776</td>\n",
              "      <td>0.465477</td>\n",
              "      <td>0.799293</td>\n",
              "      <td>0.519162</td>\n",
              "      <td>0.465363</td>\n",
              "      <td>0.805579</td>\n",
              "      <td>0.529384</td>\n",
              "      <td>0.276923</td>\n",
              "      <td>0.730194</td>\n",
              "      <td>0.377495</td>\n",
              "      <td>0.446038</td>\n",
              "      <td>0.768869</td>\n",
              "      <td>0.560863</td>\n",
              "    </tr>\n",
              "    <tr>\n",
              "      <th>windchillLow</th>\n",
              "      <td>0.311544</td>\n",
              "      <td>0.714088</td>\n",
              "      <td>0.437782</td>\n",
              "      <td>0.465414</td>\n",
              "      <td>0.794275</td>\n",
              "      <td>0.531869</td>\n",
              "      <td>0.466986</td>\n",
              "      <td>0.799970</td>\n",
              "      <td>0.542412</td>\n",
              "      <td>0.279582</td>\n",
              "      <td>0.722857</td>\n",
              "      <td>0.390226</td>\n",
              "      <td>0.450423</td>\n",
              "      <td>0.765092</td>\n",
              "      <td>0.574501</td>\n",
              "    </tr>\n",
              "    <tr>\n",
              "      <th>windchillAvg</th>\n",
              "      <td>0.312740</td>\n",
              "      <td>0.721432</td>\n",
              "      <td>0.436061</td>\n",
              "      <td>0.465632</td>\n",
              "      <td>0.801130</td>\n",
              "      <td>0.527730</td>\n",
              "      <td>0.466253</td>\n",
              "      <td>0.807142</td>\n",
              "      <td>0.538091</td>\n",
              "      <td>0.285150</td>\n",
              "      <td>0.734560</td>\n",
              "      <td>0.392646</td>\n",
              "      <td>0.448171</td>\n",
              "      <td>0.772029</td>\n",
              "      <td>0.569693</td>\n",
              "    </tr>\n",
              "  </tbody>\n",
              "</table>\n",
              "</div>"
            ],
            "text/plain": [
              "               wind_speed_KCOCASTL404  ...  wind_gust_KCOPARKE414\n",
              "winddirAvg                   0.242257  ...               0.419612\n",
              "windspeedHigh                0.565982  ...               0.762642\n",
              "windspeedLow                      NaN  ...                    NaN\n",
              "windspeedAvg                 0.502207  ...               0.780852\n",
              "windgustHigh                 0.539809  ...               0.777243\n",
              "windgustLow                       NaN  ...                    NaN\n",
              "windgustAvg                  0.501899  ...               0.773910\n",
              "windchillHigh                0.303379  ...               0.560863\n",
              "windchillLow                 0.311544  ...               0.574501\n",
              "windchillAvg                 0.312740  ...               0.569693\n",
              "\n",
              "[10 rows x 15 columns]"
            ]
          },
          "metadata": {
            "tags": []
          },
          "execution_count": 189
        }
      ]
    },
    {
      "cell_type": "code",
      "metadata": {
        "id": "zN_48NvOT4Eh"
      },
      "source": [
        "#OWM measurements age off, just stashing off all the data so I can reference it later on if necessary\n",
        "owm_df.to_csv('/content/drive/MyDrive/Capstone/PSDS4900/owm_data/20210425_20210429_highly_correlated.csv')"
      ],
      "execution_count": 190,
      "outputs": []
    }
  ]
}