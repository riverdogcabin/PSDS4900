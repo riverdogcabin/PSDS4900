{
  "nbformat": 4,
  "nbformat_minor": 0,
  "metadata": {
    "colab": {
      "name": "wunderground_station_info.ipynb",
      "provenance": [],
      "collapsed_sections": [],
      "mount_file_id": "15e0DCXxn9OwBT6bdfr5X1G9Hje0-vDQr",
      "authorship_tag": "ABX9TyNNoZjHKm++1dlbXy26/2HN",
      "include_colab_link": true
    },
    "kernelspec": {
      "name": "python3",
      "display_name": "Python 3"
    }
  },
  "cells": [
    {
      "cell_type": "markdown",
      "metadata": {
        "id": "view-in-github",
        "colab_type": "text"
      },
      "source": [
        "<a href=\"https://colab.research.google.com/github/riverdogcabin/PSDS4900/blob/main/wunderground_station_info.ipynb\" target=\"_parent\"><img src=\"https://colab.research.google.com/assets/colab-badge.svg\" alt=\"Open In Colab\"/></a>"
      ]
    },
    {
      "cell_type": "code",
      "metadata": {
        "id": "OZJP44sS5g68"
      },
      "source": [
        "import requests\n",
        "import json\n",
        "from pprint import pprint\n",
        "import pandas as pd\n",
        "from datetime import datetime\n",
        "from time import sleep"
      ],
      "execution_count": null,
      "outputs": []
    },
    {
      "cell_type": "code",
      "metadata": {
        "id": "SqjwJqX45jb-"
      },
      "source": [
        "# Set up API call URL\n",
        "# weatherreadings = {}\n",
        "url = 'https://api.weather.com/v2/pws/observations/current?stationId={stationid}&format=json&units={units}&apiKey={apikey}&numericPrecision={numeric_precision}'"
      ],
      "execution_count": null,
      "outputs": []
    },
    {
      "cell_type": "code",
      "metadata": {
        "id": "mDFmbaRV7Edr"
      },
      "source": [
        "# Get Config Data from config.json\n",
        "with open('/content/drive/MyDrive/Capstone/PSDS4900/config.json') as configuration:\n",
        "  config = json.load(configuration).get('WU') #config for WeatherUnderground\n",
        "  apikey = config[\"apikey\"]\n",
        "  my_stationid = config[\"stationid\"]\n",
        "  units = config[\"units\"]\n",
        "  numeric_precision = config[\"numeric_precision\"]"
      ],
      "execution_count": null,
      "outputs": []
    },
    {
      "cell_type": "code",
      "metadata": {
        "id": "CtkQPjEQ7vb8"
      },
      "source": [
        "url = url.format(stationid = '{stationid}',units=units,apikey=apikey,numeric_precision=numeric_precision)\n",
        "# print(url)\n",
        "station_file = '/content/drive/MyDrive/Capstone/PSDS4900/wu_stations.txt'\n",
        "column_order = ['stationID','lat','lon','elev','neighborhood','softwareType','qcStatus']"
      ],
      "execution_count": null,
      "outputs": []
    },
    {
      "cell_type": "code",
      "metadata": {
        "id": "zTwi6RZ6PvEZ"
      },
      "source": [
        "# strip station information from the JSON\n",
        "def get_station_info(wu_result):\n",
        "  observations = wu_result.get('observations',[])\n",
        "  return_dict = {}\n",
        "  keys = ('stationID','neighborhood','softwareType','lon','lat','qcStatus','elev')\n",
        "  if (len(observations) > 0):\n",
        "    # print(observations[0])\n",
        "    flat = flatten_wu_result(observations[0])\n",
        "    # print(flat)\n",
        "    for key in keys:\n",
        "      return_dict[key] = flat.get(key,'')\n",
        "    return return_dict\n",
        "  else:\n",
        "    return None\n",
        "\n",
        "# JSON comes back with measurements nested inside 'metrics', need to flatten\n",
        "def flatten_wu_result(wu_result,units='metric'):\n",
        "  try:\n",
        "    observation = wu_result.pop(units)\n",
        "    wu_result.update(observation)\n",
        "    wu_result.update({'units':units})\n",
        "    return wu_result\n",
        "  except:\n",
        "    return wu_result"
      ],
      "execution_count": null,
      "outputs": []
    },
    {
      "cell_type": "code",
      "metadata": {
        "id": "sEuAZJkpMrkD"
      },
      "source": [
        "# function to get the JSON data from Weather Underground\n",
        "def get_wu_data(stationid,url):\n",
        "  url = url.format(stationid=stationid)\n",
        "  print(\"Retrieving data for \" + stationid,end=': ')\n",
        "  response = requests.get(url) # need to add error handling for invalid data\n",
        "\n",
        "  if response.status_code == 200: # If the response code is 200 (sucessful)\n",
        "      print(\"Success\")\n",
        "      weatherdata = response.json()\n",
        "      # pprint(weatherdata)\n",
        "      return get_station_info(weatherdata)\n",
        "      # return weatherdata.get('observations')\n",
        "  elif response.status_code == 204: # 204 returns a blank response so inform the user\n",
        "      print(\"API Error 204: No Data Found for specific query.\")\n",
        "      exit()\n",
        "\n",
        "  elif response.status_code >200 & response.status_code <1000: # Handles all other error code numbers\n",
        "      result = response.json()\n",
        "      try:\n",
        "          print(\"API Error \" + str(response.status_code) + \": \" + result[\"errors\"][0][\"error\"][\"message\"])\n",
        "      except: # sometimesthe error messae is in a different nest\n",
        "          print(\"API Error \" + str(response.status_code) + \": \" + result[\"errors\"][0][\"message\"])\n",
        "      exit()\n",
        "\n",
        "  else: # Catch any other errors\n",
        "      print(\"Unspecified error\")\n",
        "      print(response.text)"
      ],
      "execution_count": null,
      "outputs": []
    },
    {
      "cell_type": "code",
      "metadata": {
        "id": "VCggtVQsCCSr"
      },
      "source": [
        "def get_stations(stationfile):\n",
        "  station_list = []\n",
        "  with open(stationfile) as infile:\n",
        "    for l in infile.readlines():\n",
        "      if(l.find('#') == -1):\n",
        "        station_list.append(l.strip())\n",
        "  return list(set(station_list))"
      ],
      "execution_count": null,
      "outputs": []
    },
    {
      "cell_type": "code",
      "metadata": {
        "id": "nvWCIuN0Oaq-"
      },
      "source": [
        "station_list = get_stations(station_file)"
      ],
      "execution_count": null,
      "outputs": []
    },
    {
      "cell_type": "code",
      "metadata": {
        "id": "SbRZTaeJPnMs",
        "colab": {
          "base_uri": "https://localhost:8080/"
        },
        "outputId": "611fd1c6-1ee2-427e-a2fc-cbb23b8fbf2b"
      },
      "source": [
        "station_df = pd.DataFrame()\n",
        "for station in station_list:\n",
        "  station_df = station_df.append(pd.DataFrame(get_wu_data(station,url),index=[0]),ignore_index=True,)\n",
        "  sleep(1)\n",
        "# station_df.head()"
      ],
      "execution_count": null,
      "outputs": [
        {
          "output_type": "stream",
          "text": [
            "Retrieving data for: KCOPARKE331\n",
            "Success\n",
            "Retrieving data for: KCOPARKE298\n",
            "Success\n",
            "Retrieving data for: KCOPARKE414\n",
            "Success\n",
            "Retrieving data for: KCOPARKE374\n",
            "Success\n",
            "Retrieving data for: KCOPARKE320\n",
            "Success\n",
            "Retrieving data for: KCOPARKE26\n",
            "Success\n",
            "Retrieving data for: KCOPARKE276\n",
            "Success\n",
            "Retrieving data for: KCOPARKE303\n",
            "Success\n",
            "Retrieving data for: KCOPARKE271\n",
            "Success\n",
            "Retrieving data for: KCOPARKE148\n",
            "Success\n",
            "Retrieving data for: KCOPARKE201\n",
            "Success\n",
            "Retrieving data for: KCOPARKE34\n",
            "Success\n",
            "Retrieving data for: KCOPARKE313\n",
            "Success\n",
            "Retrieving data for: KCOPARKE343\n",
            "Success\n",
            "Retrieving data for: KCOPARKE278\n",
            "Success\n",
            "Retrieving data for: KCOPARKE305\n",
            "Success\n",
            "Retrieving data for: KCOCASTL161\n",
            "Success\n",
            "Retrieving data for: KCOPARKE68\n",
            "Success\n",
            "Retrieving data for: KCOPARKE399\n",
            "Success\n",
            "Retrieving data for: KCOPARKE386\n",
            "Success\n",
            "Retrieving data for: KCOCASTL227\n",
            "Success\n",
            "Retrieving data for: KCOPARKE176\n",
            "Success\n",
            "Retrieving data for: KCOPARKE256\n",
            "Success\n",
            "Retrieving data for: KCOPARKE245\n",
            "Success\n",
            "Retrieving data for: KCOPARKE319\n",
            "Success\n",
            "Retrieving data for: KCOCASTL399\n",
            "Success\n",
            "Retrieving data for: KCOPARKE333\n",
            "Success\n",
            "Retrieving data for: KCOFRANK18\n",
            "Success\n",
            "Retrieving data for: KCOPARKE367\n",
            "Success\n",
            "Retrieving data for: KCOCASTL148\n",
            "Success\n",
            "Retrieving data for: KCOCASTL310\n",
            "Success\n",
            "Retrieving data for: KCOCASTL79\n",
            "Success\n",
            "Retrieving data for: KCOCASTL200\n",
            "Success\n",
            "Retrieving data for: KCOCASTL383\n",
            "Success\n",
            "Retrieving data for: KCOCASTL371\n",
            "Success\n",
            "Retrieving data for: KCOCASTL317\n",
            "Success\n",
            "Retrieving data for: KCOCASTL410\n",
            "Success\n",
            "Retrieving data for: KCOCASTL231\n",
            "Success\n",
            "Retrieving data for: KCOCASTL332\n",
            "Success\n",
            "Retrieving data for: KCOCASTL195\n",
            "Success\n",
            "Retrieving data for: KCOCASTL385\n",
            "Success\n",
            "Retrieving data for: KCOCASTL205\n",
            "Success\n",
            "Retrieving data for: KCOCASTL323\n",
            "Success\n",
            "Retrieving data for: KCOCASTL313\n",
            "Success\n",
            "Retrieving data for: KCOCASTL391\n",
            "Success\n",
            "Retrieving data for: KCOCASTL404\n",
            "Success\n",
            "Retrieving data for: KCOCASTL74\n",
            "Success\n",
            "Retrieving data for: KCOCASTL204\n",
            "Success\n",
            "Retrieving data for: KCOCASTL406\n",
            "Success\n",
            "Retrieving data for: KCOCASTL386\n",
            "Success\n",
            "Retrieving data for: KCOPARKE68\n",
            "Success\n",
            "Retrieving data for: KCOCASTL424\n",
            "Success\n",
            "Retrieving data for: KCOCASTL388\n",
            "Success\n",
            "Retrieving data for: KCOCASTL208\n",
            "Success\n",
            "Retrieving data for: KCOPARKE278\n",
            "Success\n",
            "Retrieving data for: KCOCASTL240\n",
            "Success\n",
            "Retrieving data for: KCOCASTL390\n",
            "Success\n",
            "Retrieving data for: KCOSEDAL14\n",
            "Success\n",
            "Retrieving data for: KCOSEDAL29\n",
            "Success\n",
            "Retrieving data for: KCOSEDAL71\n",
            "Success\n",
            "Retrieving data for: KCOSEDAL6\n",
            "Success\n",
            "Retrieving data for: KCOSEDAL73\n",
            "Success\n",
            "Retrieving data for: KCOSEDAL28\n",
            "Success\n",
            "Retrieving data for: KCOCASTL391\n",
            "Success\n",
            "Retrieving data for: KCOCASTL167\n",
            "Success\n",
            "Retrieving data for: KCOSEDAL52\n",
            "Success\n",
            "Retrieving data for: KCOSEDAL4\n",
            "Success\n",
            "Retrieving data for: KCOCASTL397\n",
            "Success\n",
            "Retrieving data for: KCOLOUVI2\n",
            "Success\n",
            "Retrieving data for: KCOCASTL313\n",
            "Success\n",
            "Retrieving data for: KCOSEDAL61\n",
            "Success\n",
            "Retrieving data for: KCOCASTL383\n",
            "Success\n",
            "Retrieving data for: KCOCASTL430\n",
            "Success\n",
            "Retrieving data for: KCOCASTL204\n",
            "Success\n",
            "Retrieving data for: KCOCASTL388\n",
            "Success\n",
            "Retrieving data for: KCOSEDAL42\n",
            "Success\n",
            "Retrieving data for: KCOSILVE32\n",
            "Success\n",
            "Retrieving data for: KCOCASTL332\n",
            "Success\n",
            "Retrieving data for: KCOCASTL321\n",
            "Success\n",
            "Retrieving data for: KCOLITTL771\n",
            "Success\n",
            "Retrieving data for: KCOCASTL390\n",
            "Success\n",
            "Retrieving data for: KCOLITTL720\n",
            "Success\n",
            "Retrieving data for: KCOCASTL248\n",
            "Success\n",
            "Retrieving data for: KCOLITTL697\n",
            "Success\n",
            "Retrieving data for: KCOLITTL82\n",
            "Success\n",
            "Retrieving data for: KCOCASTL26\n",
            "Success\n",
            "Retrieving data for: KCOLITTL212\n",
            "Success\n",
            "Retrieving data for: KCOSEDAL14\n",
            "Success\n",
            "Retrieving data for: KCOSEDAL6\n",
            "Success\n",
            "Retrieving data for: KCOSEDAL71\n",
            "Success\n",
            "Retrieving data for: KCOSEDAL72\n",
            "Success\n",
            "Retrieving data for: KCOSEDAL54\n",
            "Success\n",
            "Retrieving data for: KCOCASTL391\n",
            "Success\n",
            "Retrieving data for: KCOLOUVI2\n",
            "Success\n",
            "Retrieving data for: KCOCASTL240\n",
            "Success\n",
            "Retrieving data for: KCOCASTL308\n",
            "Success\n",
            "Retrieving data for: KCOCASTL331\n",
            "Success\n",
            "Retrieving data for: KCOCASTL405\n",
            "Success\n",
            "Retrieving data for: KCOCASTL312\n",
            "Success\n",
            "Retrieving data for: KCOCASTL342\n",
            "Success\n",
            "Retrieving data for: KCOCASTL313\n",
            "Success\n",
            "/content/drive/MyDrive/Capstone/PSDS4900/wu_data/20210327_station_info.csv written\n"
          ],
          "name": "stdout"
        }
      ]
    },
    {
      "cell_type": "code",
      "metadata": {
        "id": "epeo-H0Cd_sU",
        "colab": {
          "base_uri": "https://localhost:8080/"
        },
        "outputId": "86d59b88-f89d-4963-b7c7-183cf405fa23"
      },
      "source": [
        "station_df = station_df[column_order]\n",
        "station_df.to_csv('/content/drive/MyDrive/Capstone/PSDS4900/wu_data/{}_{}.csv'.format(datetime.now().date().strftime('%Y%m%d'),'station_info'),index=False)\n",
        "print('/content/drive/MyDrive/Capstone/PSDS4900/wu_data/{}_{}.csv written'.format(datetime.now().date().strftime('%Y%m%d'),'station_info'))"
      ],
      "execution_count": null,
      "outputs": [
        {
          "output_type": "stream",
          "text": [
            "/content/drive/MyDrive/Capstone/PSDS4900/wu_data/20210327_station_info.csv written\n"
          ],
          "name": "stdout"
        }
      ]
    },
    {
      "cell_type": "code",
      "metadata": {
        "id": "23CtbuFlUWJ6"
      },
      "source": [
        ""
      ],
      "execution_count": null,
      "outputs": []
    }
  ]
}