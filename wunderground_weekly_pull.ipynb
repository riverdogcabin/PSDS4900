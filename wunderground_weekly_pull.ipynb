{
  "nbformat": 4,
  "nbformat_minor": 0,
  "metadata": {
    "colab": {
      "name": "wunderground_weekly_pull.ipynb",
      "provenance": [],
      "collapsed_sections": [],
      "mount_file_id": "1ns-dtW-L_2m-2z-6f1HlW0uI-1WYpF5t",
      "authorship_tag": "ABX9TyOuxuPQ75KALxRHolNiV0sU",
      "include_colab_link": true
    },
    "kernelspec": {
      "name": "python3",
      "display_name": "Python 3"
    }
  },
  "cells": [
    {
      "cell_type": "markdown",
      "metadata": {
        "id": "view-in-github",
        "colab_type": "text"
      },
      "source": [
        "<a href=\"https://colab.research.google.com/github/riverdogcabin/PSDS4900/blob/main/wunderground_weekly_pull.ipynb\" target=\"_parent\"><img src=\"https://colab.research.google.com/assets/colab-badge.svg\" alt=\"Open In Colab\"/></a>"
      ]
    },
    {
      "cell_type": "code",
      "metadata": {
        "id": "OZJP44sS5g68"
      },
      "source": [
        "import requests\n",
        "import json\n",
        "from pprint import pprint\n",
        "import pandas as pd\n",
        "from datetime import datetime\n",
        "from time import sleep"
      ],
      "execution_count": null,
      "outputs": []
    },
    {
      "cell_type": "code",
      "metadata": {
        "id": "SqjwJqX45jb-"
      },
      "source": [
        "# Set up API call URL\n",
        "# weatherreadings = {}\n",
        "url = 'https://api.weather.com/v2/pws/observations/hourly/7day?stationId={stationid}&format=json&units={units}&apiKey={apikey}&numericPrecision={numeric_precision}'\n",
        "# url = \"https://api.weather.com/v2/pws/observations/current?stationId=REPLACESTATIONID&format=json&units=REPLACEUNITS&numericPrecision=decimal&apiKey=REPLACEAPI\"\n"
      ],
      "execution_count": null,
      "outputs": []
    },
    {
      "cell_type": "code",
      "metadata": {
        "id": "mDFmbaRV7Edr"
      },
      "source": [
        "# Get Config Data from config.json\n",
        "with open('/content/drive/MyDrive/Capstone/PSDS4900/config.json') as configuration:\n",
        "  config = json.load(configuration).get('WU') #config for WeatherUnderground\n",
        "  apikey = config[\"apikey\"]\n",
        "  my_stationid = config[\"stationid\"]\n",
        "  units = config[\"units\"]\n",
        "  numeric_precision = config[\"numeric_precision\"]"
      ],
      "execution_count": null,
      "outputs": []
    },
    {
      "cell_type": "code",
      "metadata": {
        "id": "CtkQPjEQ7vb8"
      },
      "source": [
        "url = url.format(stationid = '{stationid}',units=units,apikey=apikey,numeric_precision=numeric_precision)\n",
        "# print(url)\n",
        "station_file = '/content/drive/MyDrive/Capstone/PSDS4900/wu_stations.txt'\n",
        "drop_columns = ['lat','lon','units','tz','obsTimeUtc','obsTimeLocal']"
      ],
      "execution_count": null,
      "outputs": []
    },
    {
      "cell_type": "code",
      "metadata": {
        "id": "zTwi6RZ6PvEZ"
      },
      "source": [
        "# JSON comes back with measurements nested inside 'metrics', need to flatten\n",
        "def flatten_wu_result(wu_result,units='metric'):\n",
        "  try:\n",
        "    observation = wu_result.pop(units)\n",
        "    wu_result.update(observation)\n",
        "    wu_result.update({'units':units})\n",
        "  except:\n",
        "    return wu_result"
      ],
      "execution_count": null,
      "outputs": []
    },
    {
      "cell_type": "code",
      "metadata": {
        "id": "sEuAZJkpMrkD"
      },
      "source": [
        "# function to get the JSON data from Weather Underground\n",
        "def get_wu_data(stationid,url):\n",
        "  url = url.format(stationid=stationid)\n",
        "  print(\"Retrieving data for \" + stationid,end=': ')\n",
        "  response = requests.get(url) # need to add error handling for invalid data\n",
        "\n",
        "  if response.status_code == 200: # If the response code is 200 (sucessful)\n",
        "      print(\"Success\")\n",
        "      weatherdata = response.json()\n",
        "      # pprint(weatherdata)\n",
        "      for observation in weatherdata.get('observations'):\n",
        "        flatten_wu_result(observation)\n",
        "      return weatherdata.get('observations')\n",
        "  elif response.status_code == 204: # 204 returns a blank response so inform the user\n",
        "      print(\"API Error 204: No Data Found for specific query.\")\n",
        "      exit()\n",
        "\n",
        "  elif response.status_code >200 & response.status_code <1000: # Handles all other error code numbers\n",
        "      result = response.json()\n",
        "      try:\n",
        "          print(\"API Error \" + str(response.status_code) + \": \" + result[\"errors\"][0][\"error\"][\"message\"])\n",
        "      except: # sometimesthe error messae is in a different nest\n",
        "          print(\"API Error \" + str(response.status_code) + \": \" + result[\"errors\"][0][\"message\"])\n",
        "      exit()\n",
        "\n",
        "  else: # Catch any other errors\n",
        "      print(\"Unspecified error\")\n",
        "      print(response.text)"
      ],
      "execution_count": null,
      "outputs": []
    },
    {
      "cell_type": "code",
      "metadata": {
        "id": "VCggtVQsCCSr"
      },
      "source": [
        "def get_stations(stationfile):\n",
        "  station_list = []\n",
        "  with open(stationfile) as infile:\n",
        "    for l in infile.readlines():\n",
        "      if(l.find('#') == -1):\n",
        "        station_list.append(l.strip())\n",
        "  return station_list"
      ],
      "execution_count": null,
      "outputs": []
    },
    {
      "cell_type": "code",
      "metadata": {
        "id": "nvWCIuN0Oaq-"
      },
      "source": [
        "station_list = get_stations(station_file)\n",
        "# print(station_list)\n",
        "# len(weatherdata.get('observations'))"
      ],
      "execution_count": null,
      "outputs": []
    },
    {
      "cell_type": "code",
      "metadata": {
        "id": "SbRZTaeJPnMs",
        "colab": {
          "base_uri": "https://localhost:8080/"
        },
        "outputId": "d9a2152f-9528-4537-ad97-a681baaa89ef"
      },
      "source": [
        "observations_df = pd.DataFrame()\n",
        "for station in station_list:\n",
        "  observations_df = observations_df.append(pd.DataFrame(get_wu_data(station,url)))\n",
        "  sleep(1)"
      ],
      "execution_count": null,
      "outputs": [
        {
          "output_type": "stream",
          "text": [
            "Retrieving data for KCOPARKE331: Success\n",
            "Retrieving data for KCOPARKE298: Success\n",
            "Retrieving data for KCOPARKE414: Success\n",
            "Retrieving data for KCOPARKE374: Success\n",
            "Retrieving data for KCOPARKE320: Success\n",
            "Retrieving data for KCOPARKE26: Success\n",
            "Retrieving data for KCOPARKE276: Success\n",
            "Retrieving data for KCOPARKE303: Success\n",
            "Retrieving data for KCOPARKE271: Success\n",
            "Retrieving data for KCOPARKE148: Success\n",
            "Retrieving data for KCOPARKE201: Success\n",
            "Retrieving data for KCOPARKE34: Success\n",
            "Retrieving data for KCOPARKE313: Success\n",
            "Retrieving data for KCOPARKE343: Success\n",
            "Retrieving data for KCOPARKE278: Success\n",
            "Retrieving data for KCOPARKE305: Success\n",
            "Retrieving data for KCOCASTL161: Success\n",
            "Retrieving data for KCOPARKE68: Success\n",
            "Retrieving data for KCOPARKE399: Success\n",
            "Retrieving data for KCOPARKE386: Success\n",
            "Retrieving data for KCOCASTL227: Success\n",
            "Retrieving data for KCOPARKE176: Success\n",
            "Retrieving data for KCOPARKE256: Success\n",
            "Retrieving data for KCOPARKE245: Success\n",
            "Retrieving data for KCOPARKE319: Success\n",
            "Retrieving data for KCOCASTL399: Success\n",
            "Retrieving data for KCOPARKE333: Success\n",
            "Retrieving data for KCOFRANK18: Success\n",
            "Retrieving data for KCOPARKE367: Success\n",
            "Retrieving data for KCOCASTL148: Success\n",
            "Retrieving data for KCOCASTL310: Success\n",
            "Retrieving data for KCOCASTL79: Success\n",
            "Retrieving data for KCOCASTL200: Success\n",
            "Retrieving data for KCOCASTL383: Success\n",
            "Retrieving data for KCOCASTL371: Success\n",
            "Retrieving data for KCOCASTL317: Success\n",
            "Retrieving data for KCOCASTL410: Success\n",
            "Retrieving data for KCOCASTL231: Success\n",
            "Retrieving data for KCOCASTL332: Success\n",
            "Retrieving data for KCOCASTL195: Success\n",
            "Retrieving data for KCOCASTL385: Success\n",
            "Retrieving data for KCOCASTL205: Success\n",
            "Retrieving data for KCOCASTL323: Success\n",
            "Retrieving data for KCOCASTL313: Success\n",
            "Retrieving data for KCOCASTL391: Success\n",
            "Retrieving data for KCOCASTL404: Success\n",
            "Retrieving data for KCOCASTL74: Success\n",
            "Retrieving data for KCOCASTL204: Success\n",
            "Retrieving data for KCOCASTL406: Success\n",
            "Retrieving data for KCOCASTL386: Success\n",
            "Retrieving data for KCOPARKE68: Success\n",
            "Retrieving data for KCOCASTL424: Success\n",
            "Retrieving data for KCOCASTL388: Success\n",
            "Retrieving data for KCOCASTL208: Success\n",
            "Retrieving data for KCOPARKE278: Success\n",
            "Retrieving data for KCOCASTL240: Success\n",
            "Retrieving data for KCOCASTL390: Success\n",
            "Retrieving data for KCOSEDAL14: Success\n",
            "Retrieving data for KCOSEDAL29: Success\n",
            "Retrieving data for KCOSEDAL71: Success\n",
            "Retrieving data for KCOSEDAL6: Success\n",
            "Retrieving data for KCOSEDAL73: Success\n",
            "Retrieving data for KCOSEDAL28: Success\n",
            "Retrieving data for KCOCASTL391: Success\n",
            "Retrieving data for KCOCASTL167: Success\n",
            "Retrieving data for KCOSEDAL52: Success\n",
            "Retrieving data for KCOSEDAL4: Success\n",
            "Retrieving data for KCOCASTL397: Success\n",
            "Retrieving data for KCOLOUVI2: Success\n",
            "Retrieving data for KCOCASTL313: Success\n",
            "Retrieving data for KCOSEDAL61: Success\n",
            "Retrieving data for KCOCASTL383: Success\n",
            "Retrieving data for KCOCASTL430: Success\n",
            "Retrieving data for KCOCASTL204: Success\n",
            "Retrieving data for KCOCASTL388: Success\n",
            "Retrieving data for KCOSEDAL42: Success\n",
            "Retrieving data for KCOSILVE32: Success\n",
            "Retrieving data for KCOCASTL332: Success\n",
            "Retrieving data for KCOCASTL321: Success\n",
            "Retrieving data for KCOLITTL771: Success\n",
            "Retrieving data for KCOCASTL390: Success\n",
            "Retrieving data for KCOLITTL720: Success\n",
            "Retrieving data for KCOCASTL248: Success\n",
            "Retrieving data for KCOLITTL697: Success\n",
            "Retrieving data for KCOLITTL82: Success\n",
            "Retrieving data for KCOCASTL26: Success\n",
            "Retrieving data for KCOLITTL212: Success\n",
            "Retrieving data for KCOSEDAL14: Success\n",
            "Retrieving data for KCOSEDAL6: Success\n",
            "Retrieving data for KCOSEDAL71: Success\n",
            "Retrieving data for KCOSEDAL72: Success\n",
            "Retrieving data for KCOSEDAL54: Success\n",
            "Retrieving data for KCOCASTL391: Success\n",
            "Retrieving data for KCOLOUVI2: Success\n",
            "Retrieving data for KCOCASTL240: Success\n",
            "Retrieving data for KCOCASTL308: Success\n",
            "Retrieving data for KCOCASTL331: Success\n",
            "Retrieving data for KCOCASTL405: Success\n",
            "Retrieving data for KCOCASTL312: Success\n",
            "Retrieving data for KCOCASTL342: Success\n",
            "Retrieving data for KCOCASTL313: Success\n"
          ],
          "name": "stdout"
        }
      ]
    },
    {
      "cell_type": "code",
      "metadata": {
        "colab": {
          "base_uri": "https://localhost:8080/"
        },
        "id": "UJT0IA-D3XLR",
        "outputId": "edadde63-7a7b-4fe3-e447-3f9207354f24"
      },
      "source": [
        "observations_df.drop(columns=drop_columns,inplace=True)\n",
        "observations_df.to_csv('/content/drive/MyDrive/Capstone/PSDS4900/wu_data/{}.csv'.format(datetime.now().date().strftime('%Y%m%d')),index=False)\n",
        "print('/content/drive/MyDrive/Capstone/PSDS4900/wu_data/{}.csv written\\n'.format(datetime.now().date().strftime('%Y%m%d')))  "
      ],
      "execution_count": null,
      "outputs": [
        {
          "output_type": "stream",
          "text": [
            "/content/drive/MyDrive/Capstone/PSDS4900/wu_data/20210331.csv written\n",
            "\n"
          ],
          "name": "stdout"
        }
      ]
    },
    {
      "cell_type": "code",
      "metadata": {
        "id": "D4vdxXAn3dML"
      },
      "source": [
        ""
      ],
      "execution_count": null,
      "outputs": []
    }
  ]
}